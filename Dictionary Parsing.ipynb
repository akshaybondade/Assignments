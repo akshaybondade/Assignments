{
 "cells": [
  {
   "cell_type": "markdown",
   "id": "169453e1",
   "metadata": {},
   "source": [
    "# Create a class for dictonary parsing \n",
    "\n",
    "1. write a function to give all the keys\n",
    "2. write a function to give all the values \n",
    "3. write a function to throw an exception in case of input is not dictonary\n",
    "4. write a function to take user input and then parse a key and value out of dictonary \n",
    "5. write a function to insert new key value pair into dictonary "
   ]
  },
  {
   "cell_type": "code",
   "execution_count": 1,
   "id": "04b0313b",
   "metadata": {},
   "outputs": [],
   "source": [
    "class dict_parsing:\n",
    "    \n",
    "    def __init__(self,a):\n",
    "        self.a = a\n",
    "    \n",
    "    def getkeys(self):\n",
    "        if self.notdict():\n",
    "            return list(self.a.keys())\n",
    "        \n",
    "    def getvalues(self):\n",
    "        if self.notdict():\n",
    "            return list(self.a.values())\n",
    "        \n",
    "    def notdict(self):\n",
    "        if type(self.a) != dict:\n",
    "            raise Exception(self.a,'Not a dictionary')\n",
    "        return 1\n",
    "    def userinput(self):\n",
    "        self.a = eval(input())\n",
    "        print(self.a,type(self.a))\n",
    "        print(self.getkeys())\n",
    "        print(self.getvalues())\n",
    "        \n",
    "    def insertion(self,k,v):\n",
    "        self.a[k] = v\n"
   ]
  },
  {
   "cell_type": "code",
   "execution_count": 2,
   "id": "7b00f629",
   "metadata": {},
   "outputs": [],
   "source": [
    "d = dict_parsing({\"a\":[1,2,3,4,4],\"b\":\"dfdsf\"})"
   ]
  },
  {
   "cell_type": "code",
   "execution_count": 3,
   "id": "e542f8d9",
   "metadata": {},
   "outputs": [
    {
     "data": {
      "text/plain": [
       "['a', 'b']"
      ]
     },
     "execution_count": 3,
     "metadata": {},
     "output_type": "execute_result"
    }
   ],
   "source": [
    "d.getkeys()"
   ]
  },
  {
   "cell_type": "code",
   "execution_count": 4,
   "id": "3a6a6644",
   "metadata": {},
   "outputs": [
    {
     "data": {
      "text/plain": [
       "[[1, 2, 3, 4, 4], 'dfdsf']"
      ]
     },
     "execution_count": 4,
     "metadata": {},
     "output_type": "execute_result"
    }
   ],
   "source": [
    "d.getvalues()"
   ]
  },
  {
   "cell_type": "code",
   "execution_count": 5,
   "id": "a8fe23df",
   "metadata": {},
   "outputs": [],
   "source": [
    "d.insertion(\"c\",\"Akshay\")"
   ]
  },
  {
   "cell_type": "code",
   "execution_count": 6,
   "id": "33de3387",
   "metadata": {},
   "outputs": [
    {
     "data": {
      "text/plain": [
       "(['a', 'b', 'c'], [[1, 2, 3, 4, 4], 'dfdsf', 'Akshay'])"
      ]
     },
     "execution_count": 6,
     "metadata": {},
     "output_type": "execute_result"
    }
   ],
   "source": [
    "d.getkeys(),d.getvalues()"
   ]
  },
  {
   "cell_type": "code",
   "execution_count": 7,
   "id": "2be75f56",
   "metadata": {},
   "outputs": [
    {
     "name": "stdout",
     "output_type": "stream",
     "text": [
      " Volume in drive C is Windows-SSD\n",
      " Volume Serial Number is 30A8-1694\n",
      "\n",
      " Directory of C:\\Users\\8915\\Pictures\\FSDS1\\Back End Developer\\OOPS\n",
      "\n",
      "05-05-2022  11:58    <DIR>          .\n",
      "28-04-2022  20:14    <DIR>          ..\n",
      "04-05-2022  15:46    <DIR>          .ipynb_checkpoints\n",
      "05-05-2022  11:56    <DIR>          __pycache__\n",
      "05-05-2022  11:58             6,956 Dictionary Parsing.ipynb\n",
      "05-05-2022  11:58               641 mydict.py\n",
      "04-05-2022  15:35           645,667 Object Oriented Program Scripting .ipynb\n",
      "               3 File(s)        653,264 bytes\n",
      "               4 Dir(s)  212,555,972,608 bytes free\n"
     ]
    }
   ],
   "source": [
    "ls"
   ]
  },
  {
   "cell_type": "code",
   "execution_count": 8,
   "id": "0dc541ae",
   "metadata": {},
   "outputs": [],
   "source": [
    "import mydict"
   ]
  },
  {
   "cell_type": "code",
   "execution_count": 9,
   "id": "82d7156f",
   "metadata": {},
   "outputs": [],
   "source": [
    "d = mydict.dict_parsing({\"k1\":\"Akshay\",\"k2\":\"Bondade\"})"
   ]
  },
  {
   "cell_type": "code",
   "execution_count": 10,
   "id": "a2144aea",
   "metadata": {},
   "outputs": [
    {
     "data": {
      "text/plain": [
       "['k1', 'k2']"
      ]
     },
     "execution_count": 10,
     "metadata": {},
     "output_type": "execute_result"
    }
   ],
   "source": [
    "d.getkeys()"
   ]
  },
  {
   "cell_type": "code",
   "execution_count": 11,
   "id": "ad66d43a",
   "metadata": {},
   "outputs": [
    {
     "data": {
      "text/plain": [
       "['Akshay', 'Bondade']"
      ]
     },
     "execution_count": 11,
     "metadata": {},
     "output_type": "execute_result"
    }
   ],
   "source": [
    "d.getvalues()"
   ]
  },
  {
   "cell_type": "code",
   "execution_count": 12,
   "id": "e3895b8a",
   "metadata": {},
   "outputs": [],
   "source": [
    "from mydict import dict_parsing"
   ]
  },
  {
   "cell_type": "code",
   "execution_count": 13,
   "id": "0bcbb625",
   "metadata": {},
   "outputs": [],
   "source": [
    "d = dict_parsing({\"k1\":\"Akshay\",\"k2\":\"Bondade\"})"
   ]
  },
  {
   "cell_type": "code",
   "execution_count": 14,
   "id": "6a02db24",
   "metadata": {},
   "outputs": [
    {
     "data": {
      "text/plain": [
       "['k1', 'k2']"
      ]
     },
     "execution_count": 14,
     "metadata": {},
     "output_type": "execute_result"
    }
   ],
   "source": [
    "d.getkeys()"
   ]
  },
  {
   "cell_type": "code",
   "execution_count": 15,
   "id": "90a5dca4",
   "metadata": {},
   "outputs": [
    {
     "data": {
      "text/plain": [
       "['Akshay', 'Bondade']"
      ]
     },
     "execution_count": 15,
     "metadata": {},
     "output_type": "execute_result"
    }
   ],
   "source": [
    "d.getvalues()"
   ]
  },
  {
   "cell_type": "code",
   "execution_count": 16,
   "id": "64eb3eb2",
   "metadata": {},
   "outputs": [
    {
     "name": "stdout",
     "output_type": "stream",
     "text": [
      " Volume in drive C is Windows-SSD\n",
      " Volume Serial Number is 30A8-1694\n",
      "\n",
      " Directory of C:\\Users\\8915\\Pictures\\FSDS1\\Back End Developer\\OOPS\n",
      "\n",
      "05-05-2022  12:00    <DIR>          .\n",
      "28-04-2022  20:14    <DIR>          ..\n",
      "04-05-2022  15:46    <DIR>          .ipynb_checkpoints\n",
      "05-05-2022  11:59    <DIR>          __pycache__\n",
      "05-05-2022  12:00             6,587 Dictionary Parsing.ipynb\n",
      "05-05-2022  11:58               641 mydict.py\n",
      "04-05-2022  15:35           645,667 Object Oriented Program Scripting .ipynb\n",
      "               3 File(s)        652,895 bytes\n",
      "               4 Dir(s)  212,553,945,088 bytes free\n"
     ]
    }
   ],
   "source": [
    "ls"
   ]
  },
  {
   "cell_type": "code",
   "execution_count": null,
   "id": "ca61cb5b",
   "metadata": {},
   "outputs": [],
   "source": []
  }
 ],
 "metadata": {
  "kernelspec": {
   "display_name": "Python 3 (ipykernel)",
   "language": "python",
   "name": "python3"
  },
  "language_info": {
   "codemirror_mode": {
    "name": "ipython",
    "version": 3
   },
   "file_extension": ".py",
   "mimetype": "text/x-python",
   "name": "python",
   "nbconvert_exporter": "python",
   "pygments_lexer": "ipython3",
   "version": "3.9.7"
  }
 },
 "nbformat": 4,
 "nbformat_minor": 5
}
