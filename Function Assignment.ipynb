{
 "cells": [
  {
   "cell_type": "markdown",
   "id": "2101621d",
   "metadata": {},
   "source": [
    "1. You have to write a function which will take string and return a len of it without using a inbuilt function len\n",
    "2. Write a function which will be able to print an index of all premitive element which you will pass \n",
    "3. Write a function which will take an input as a dict and give me out as a list of all the values even\n",
    "in case of 2 level nesting it should work \n",
    "4. Write a function which will take another function as an input and return me an output\n",
    "5. Write a function which will take list as an input and give me concatenation of all element as an output\n",
    "6. Write a function which will be able to take a list as an input return an index of each element like an inbuilt \n",
    "index function but even if we have repetative element it should return index \n",
    "7. Write a function which will return list of all the file name from a directory\n",
    "8. Write a function which will be able to show date and time\n",
    "9. Write a function which will be able to show your system configuration\n",
    "10. Write a function which will be able to read an image file and show it to you\n",
    "11. Write a function which can read video file and play for you\n",
    "12. Write a function which can move a file from one directory to another directory \n",
    "13. Write a function which will be able to shut down your system\n",
    "14. Write a function which will be able to access your mail\n",
    "15. Write a function by which I can send a mail to anyone \n",
    "16. Write a function to read a complete PDF file \n",
    "17. Write a function to read a word file \n",
    "18. Write a function which can help you to filter only word file from a directory\n",
    "19. Write a function by which you can print an IP address of your system\n",
    "20. Write a function by which you will be able to append two PDF files"
   ]
  },
  {
   "cell_type": "markdown",
   "id": "0b650582",
   "metadata": {},
   "source": [
    "# 1.You have to write a function which will take string and return a len of it without using a inbuilt function len\n"
   ]
  },
  {
   "cell_type": "code",
   "execution_count": 6,
   "id": "fca244f4",
   "metadata": {},
   "outputs": [],
   "source": [
    "\n",
    "def len_function(a):\n",
    "    \"\"\"This function is used to find the length of string\"\"\"\n",
    "    count = 0 \n",
    "    for i in a:\n",
    "        count = count + 1 \n",
    "    print(\"length of string is \", count)"
   ]
  },
  {
   "cell_type": "code",
   "execution_count": 2,
   "id": "eccb893b",
   "metadata": {},
   "outputs": [
    {
     "name": "stdout",
     "output_type": "stream",
     "text": [
      "length of string is  3\n"
     ]
    }
   ],
   "source": [
    "len_function(\"sda\")"
   ]
  },
  {
   "cell_type": "markdown",
   "id": "e2587169",
   "metadata": {},
   "source": [
    "\n",
    "# 2.Write a function which will be able to print an index of all premitive element which you will pass\n"
   ]
  },
  {
   "cell_type": "code",
   "execution_count": 7,
   "id": "636faac5",
   "metadata": {},
   "outputs": [],
   "source": [
    "def index_of_element(a):\n",
    "    \"\"\"This function will be print an index of all premitive element which you will pass\"\"\"\n",
    "    if type(a) == list or tuple:\n",
    "        for i in a:\n",
    "            print(i,\"Index is \", a.index(i))"
   ]
  },
  {
   "cell_type": "code",
   "execution_count": 8,
   "id": "7e65fe44",
   "metadata": {},
   "outputs": [
    {
     "name": "stdout",
     "output_type": "stream",
     "text": [
      "1 Index is  0\n",
      "2 Index is  1\n",
      "3 Index is  2\n",
      "sad Index is  3\n",
      "mad Index is  4\n",
      "hat Index is  5\n",
      "1 Index is  0\n",
      "2 Index is  1\n",
      "3 Index is  2\n",
      "sad Index is  3\n",
      "mad Index is  4\n",
      "hat Index is  5\n"
     ]
    }
   ],
   "source": [
    "\n",
    "l2 = [1,2,3,'sad','mad','hat']\n",
    "l3 = (1,2,3,'sad','mad','hat')\n",
    "\n",
    "\n",
    "index_of_element(l2)\n",
    "index_of_element(l3)\n"
   ]
  },
  {
   "cell_type": "markdown",
   "id": "c94e17e4",
   "metadata": {},
   "source": [
    "# 3. Write a function which will take an input as a dict and give me out as a list of all the values even in case of 2 level nesting it should work\n"
   ]
  },
  {
   "cell_type": "code",
   "execution_count": 125,
   "id": "acc12680",
   "metadata": {},
   "outputs": [
    {
     "name": "stdout",
     "output_type": "stream",
     "text": [
      "['apple', 'ball', 'cat', 'egg', 'fan', 'gun', 'hat']\n",
      "['apple', 'ball', 'cat', 'egg', 'fan', 'gun', 'ineuron', 'jam', 'kikat', 'love']\n"
     ]
    }
   ],
   "source": [
    "# Function works even if it is multi nested\n",
    "\n",
    "def all_values(args):\n",
    "    for item in args.values():\n",
    "        if type(item)!=dict:\n",
    "            lis.append(item)  \n",
    "        else:\n",
    "            all_values(item)\n",
    "    \"\"\"\n",
    "    >pass arguments in the form of dictionary\n",
    "    returns all the values inside the dictionary,\n",
    "    even if it nested and nested for n times\n",
    "    example:\n",
    "        lis=[]\n",
    "        all_values({'a':'apple','b':'ball','c':'cat','d':{'e':'egg','f':'fan','g':'gun'},'h':'hat'})\n",
    "        print(lis)\n",
    "    >returns ['apple', 'ball', 'cat', 'egg', 'fan', 'gun', 'ineuron', 'jam', 'kikat', 'love']\n",
    "\n",
    "    \n",
    "    \"\"\"\n",
    "# for nested dict\n",
    "lis=[]\n",
    "all_values({'a':'apple','b':'ball','c':'cat','d':{'e':'egg','f':'fan','g':'gun'},'h':'hat'})\n",
    "print(lis)\n",
    "\n",
    "# for Super nested dict\n",
    "lis=[]\n",
    "all_values({'a':'apple',\n",
    "     'b':'ball',\n",
    "     'c':'cat',\n",
    "     'd':{'e':'egg','f':'fan','g':'gun',\n",
    "          'h':{'i': 'ineuron','j':'jam','k':'kikat'}},\n",
    "     'l':'love'})\n",
    "print(lis)\n",
    " "
   ]
  },
  {
   "cell_type": "markdown",
   "id": "35b8194f",
   "metadata": {},
   "source": [
    "# 4. Write a function which will take another function as an input and return me an output"
   ]
  },
  {
   "cell_type": "code",
   "execution_count": 4,
   "id": "7e835581",
   "metadata": {},
   "outputs": [
    {
     "name": "stdout",
     "output_type": "stream",
     "text": [
      "Sum of the Square of List of Numbers = 30\n"
     ]
    }
   ],
   "source": [
    "def Square(a):\n",
    "    return(a*a)\n",
    "\n",
    "def Sum_of_Square(Array,n):\n",
    "    Sum = 0\n",
    "    for i in range(0,n):\n",
    "        squared_value = Square(Array[i])\n",
    "        Sum = Sum + squared_value\n",
    "        \n",
    "    return Sum\n",
    "\n",
    "Array = [1,2,3,4]\n",
    "n =len(Array)\n",
    "\n",
    "Total = Sum_of_Square(Array,n)\n",
    "print(\"Sum of the Square of List of Numbers =\", Total)"
   ]
  },
  {
   "cell_type": "markdown",
   "id": "e52fac9e",
   "metadata": {},
   "source": [
    "# 5. Write a function which will take list as an input and give me concatenation of all element as an output"
   ]
  },
  {
   "cell_type": "code",
   "execution_count": 64,
   "id": "b11bc738",
   "metadata": {},
   "outputs": [],
   "source": [
    "def concetenate(a):\n",
    "    if type(a) == list:\n",
    "        for i in a:\n",
    "            print(i,end=\"\")\n",
    "            "
   ]
  },
  {
   "cell_type": "code",
   "execution_count": 65,
   "id": "b2c120f3",
   "metadata": {},
   "outputs": [
    {
     "name": "stdout",
     "output_type": "stream",
     "text": [
      "12345asamasdsds"
     ]
    }
   ],
   "source": [
    "l = [1,2,3,4,5,'asam','asd','sds']\n",
    "concetenate(l)"
   ]
  },
  {
   "cell_type": "markdown",
   "id": "cbcc3353",
   "metadata": {},
   "source": [
    "# 6. Write a function which will be able to take a list as an input return an index of each element like an inbuilt index function but even if we have repetative element it should return index"
   ]
  },
  {
   "cell_type": "code",
   "execution_count": 144,
   "id": "29630342",
   "metadata": {},
   "outputs": [],
   "source": [
    "def index_function(a):\n",
    "    if type(a) == list:\n",
    "        for i in range(len(a)):\n",
    "            print('index of ', a[i], 'is ',i+1)\n",
    "    else:\n",
    "        print('Kindly use list not tuples or set')"
   ]
  },
  {
   "cell_type": "code",
   "execution_count": 145,
   "id": "ef0082e0",
   "metadata": {},
   "outputs": [],
   "source": [
    "l = [1,2,1,2,4,3,2,3]"
   ]
  },
  {
   "cell_type": "code",
   "execution_count": 146,
   "id": "fb0085a9",
   "metadata": {},
   "outputs": [],
   "source": [
    "l = (1,2,1,2,4,3,2,3)"
   ]
  },
  {
   "cell_type": "code",
   "execution_count": 147,
   "id": "ee7953b7",
   "metadata": {},
   "outputs": [
    {
     "name": "stdout",
     "output_type": "stream",
     "text": [
      "Kindly use list not tuples or set\n"
     ]
    }
   ],
   "source": [
    "index_function(l)"
   ]
  },
  {
   "cell_type": "markdown",
   "id": "1efd13d7",
   "metadata": {},
   "source": [
    "# 7. Write a function which will return list of all the file name from a directory"
   ]
  },
  {
   "cell_type": "code",
   "execution_count": 148,
   "id": "d4fa1abe",
   "metadata": {},
   "outputs": [
    {
     "data": {
      "text/plain": [
       "['.ipynb_checkpoints',\n",
       " '12th March Pandas and Numpy.ipynb',\n",
       " '13th Feb live class MongoDB.ipynb',\n",
       " '13th March live class.ipynb',\n",
       " '19.3 MongoDB',\n",
       " '19.3 MongoDB.7z',\n",
       " '19th Feb Live Class MongoDB Part1.ipynb',\n",
       " '20.pdf',\n",
       " '20th Feb Live Class SQL lite, map, reduce, filter, zip.ipynb',\n",
       " '26th Feb live class Pandas.ipynb',\n",
       " '27th Feb live Class Pandas day2.ipynb',\n",
       " '3+.pdf',\n",
       " '6th Feb live class SQL.ipynb',\n",
       " 'Akshay.jpg',\n",
       " 'ARN NUMBER.txt',\n",
       " 'bag-of-words',\n",
       " 'bank',\n",
       " 'bank-full.csv',\n",
       " 'bank-names.txt',\n",
       " 'bank.csv',\n",
       " 'bank.zip',\n",
       " 'car.c45-names',\n",
       " 'car.data',\n",
       " 'car.names',\n",
       " 'circket.csv',\n",
       " 'cricket.csv',\n",
       " 'Datatypes.ipynb',\n",
       " 'datavallatestitemstop.xlsx',\n",
       " 'ERP Implementation.docx',\n",
       " 'freasher .pdf',\n",
       " 'Function Assignment.ipynb',\n",
       " 'glass.data',\n",
       " 'Heart Disease Diagnostic - Analysis .ipynb',\n",
       " 'IMG-20220412-WA0000.jpg',\n",
       " 'ineuron.db',\n",
       " 'jobdb.db',\n",
       " 'jobdb1.db',\n",
       " 'json.csv',\n",
       " 'M.png',\n",
       " 'March 5th Live Class Pandas.ipynb',\n",
       " 'March 6th Live Class.ipynb',\n",
       " 'mongodb class 1.ipynb',\n",
       " 'NBA.csv',\n",
       " 'OOPs in Python.ipynb',\n",
       " 'pandas 4 .ipynb',\n",
       " 'Pandas All Detailed Task .ipynb',\n",
       " 'pandas class 3.ipynb',\n",
       " 'pandas class homework discussed .ipynb',\n",
       " 'pandas day 2.ipynb',\n",
       " 'Pandas.ipynb',\n",
       " 'person.db',\n",
       " 'Ranking.pdf',\n",
       " 'readme.txt',\n",
       " 'sample-csv-file-for-testing.csv',\n",
       " 'sample1.csv',\n",
       " 'sample1.xls',\n",
       " 'Sample100.csv',\n",
       " 'Sample100.xls',\n",
       " 'Sample100.xlsx',\n",
       " 'sample2.xls',\n",
       " 'sample3.xls',\n",
       " 'Sample500.xls',\n",
       " 'Sample500.xlsx',\n",
       " 'Sets.ipynb',\n",
       " 'Social Media Usage.csv',\n",
       " 'SQL Assignment by Sudhanshu Sir.ipynb',\n",
       " 'SQL Assignment by Sudhanshu Sir.sql',\n",
       " 'SQL basic .ipynb',\n",
       " 'SQL day2.ipynb',\n",
       " 'SQLLITE ,map ,reduce ,filter,zip.ipynb',\n",
       " 'Task for today .ipynb',\n",
       " 'test.csv',\n",
       " 'titanic2.csv',\n",
       " 'Untitled.ipynb',\n",
       " 'Untitled1.ipynb',\n",
       " 'vocab.enron.txt',\n",
       " 'vocab.kos.txt',\n",
       " 'vocab.nips.txt',\n",
       " 'Web crawlers for image data sentiment analysis and product review sentiment analysis.ipynb']"
      ]
     },
     "execution_count": 148,
     "metadata": {},
     "output_type": "execute_result"
    }
   ],
   "source": [
    "import os\n",
    "def list_dir(path = os.getcwd()):\n",
    "    return os.listdir(path)\n",
    "list_dir()"
   ]
  },
  {
   "cell_type": "markdown",
   "id": "5d726e88",
   "metadata": {},
   "source": [
    "# 8. Write a function which will be able to show date and time"
   ]
  },
  {
   "cell_type": "code",
   "execution_count": 155,
   "id": "73b168e0",
   "metadata": {},
   "outputs": [],
   "source": [
    "import time\n",
    "def date_and_time():\n",
    "    local_time = time.localtime()\n",
    "    print (\"Date and time = \",time.asctime(local_time))"
   ]
  },
  {
   "cell_type": "code",
   "execution_count": 156,
   "id": "d9dedf54",
   "metadata": {},
   "outputs": [
    {
     "name": "stdout",
     "output_type": "stream",
     "text": [
      "Date and time =  Fri Apr 15 23:29:19 2022\n"
     ]
    }
   ],
   "source": [
    "date_and_time()"
   ]
  },
  {
   "cell_type": "markdown",
   "id": "11ea6a89",
   "metadata": {},
   "source": [
    "# 9. Write a function which will be able to show your system configuration"
   ]
  },
  {
   "cell_type": "code",
   "execution_count": 3,
   "id": "6539d936",
   "metadata": {},
   "outputs": [],
   "source": [
    "import platform\n",
    "def system_configuration():\n",
    "    my_system = platform.uname()\n",
    "\n",
    "    print(f\"System: {my_system.system}\")\n",
    "    print(f\"Node Name: {my_system.node}\")\n",
    "    print(f\"Release: {my_system.release}\")\n",
    "    print(f\"Version: {my_system.version}\")\n",
    "    print(f\"Machine: {my_system.machine}\")\n",
    "    print(f\"Processor: {my_system.processor}\")\n"
   ]
  },
  {
   "cell_type": "code",
   "execution_count": 4,
   "id": "339e6bd6",
   "metadata": {},
   "outputs": [
    {
     "name": "stdout",
     "output_type": "stream",
     "text": [
      "System: Windows\n",
      "Node Name: Akshay-Bondade\n",
      "Release: 10\n",
      "Version: 10.0.22000\n",
      "Machine: AMD64\n",
      "Processor: AMD64 Family 23 Model 104 Stepping 1, AuthenticAMD\n"
     ]
    }
   ],
   "source": [
    "system_configuration()"
   ]
  },
  {
   "cell_type": "markdown",
   "id": "c1740db5",
   "metadata": {},
   "source": [
    "# 10. Write a function which will be able to read an image file and show it to you"
   ]
  },
  {
   "cell_type": "code",
   "execution_count": 19,
   "id": "655af9bb",
   "metadata": {},
   "outputs": [],
   "source": [
    "import matplotlib.image as mpimg\n",
    "import matplotlib.pyplot as plt\n",
    " \n",
    "# Read Images\n",
    "def image_file(location):\n",
    "    \n",
    "    img = mpimg.imread(location)\n",
    " \n",
    "# Output Images\n",
    "    plt.imshow(img)"
   ]
  },
  {
   "cell_type": "code",
   "execution_count": 21,
   "id": "117f225e",
   "metadata": {},
   "outputs": [
    {
     "data": {
      "image/png": "[encoded data removed]",
      "text/plain": [
       "<Figure size 432x288 with 1 Axes>"
      ]
     },
     "metadata": {
      "needs_background": "light"
     },
     "output_type": "display_data"
    }
   ],
   "source": [
    "image_file('C:\\\\Users\\\\8915\\\\Pictures\\\\FSDS\\\\Akshay.jpg')"
   ]
  },
  {
   "cell_type": "markdown",
   "id": "d2c2a775",
   "metadata": {},
   "source": [
    "# 11. Write a function which can read video file and play for you"
   ]
  },
  {
   "cell_type": "code",
   "execution_count": 3,
   "id": "33acbb46",
   "metadata": {},
   "outputs": [],
   "source": [
    "import cv2 \n",
    "import os \n",
    "\n",
    "def video_read(location):\n",
    "    \n",
    "    video = cv2.VideoCapture(location) \n",
    "    try:  \n",
    "        if not os.path.exists('pet'): \n",
    "            os.makedirs('pet') \n",
    "    except OSError: \n",
    "        print ('Error') \n",
    "    currentframe = 0\n",
    "    while(True): \n",
    "        ret,frame = video.read() \n",
    "\n",
    "        if ret: \n",
    "            name = './pet/frame' + str(currentframe) + '.jpg'\n",
    "            print ('Captured...' + name) \n",
    "            cv2.imwrite(name, frame) \n",
    "            currentframe += 1\n",
    "        else: \n",
    "            break\n",
    "    video.release() \n",
    "    cv2.destroyAllWindows()"
   ]
  },
  {
   "cell_type": "code",
   "execution_count": 4,
   "id": "19520c12",
   "metadata": {},
   "outputs": [
    {
     "name": "stdout",
     "output_type": "stream",
     "text": [
      "Captured..../pet/frame0.jpg\n",
      "Captured..../pet/frame1.jpg\n",
      "Captured..../pet/frame2.jpg\n",
      "Captured..../pet/frame3.jpg\n",
      "Captured..../pet/frame4.jpg\n",
      "Captured..../pet/frame5.jpg\n",
      "Captured..../pet/frame6.jpg\n",
      "Captured..../pet/frame7.jpg\n",
      "Captured..../pet/frame8.jpg\n",
      "Captured..../pet/frame9.jpg\n",
      "Captured..../pet/frame10.jpg\n",
      "Captured..../pet/frame11.jpg\n",
      "Captured..../pet/frame12.jpg\n",
      "Captured..../pet/frame13.jpg\n",
      "Captured..../pet/frame14.jpg\n",
      "Captured..../pet/frame15.jpg\n",
      "Captured..../pet/frame16.jpg\n",
      "Captured..../pet/frame17.jpg\n",
      "Captured..../pet/frame18.jpg\n",
      "Captured..../pet/frame19.jpg\n",
      "Captured..../pet/frame20.jpg\n",
      "Captured..../pet/frame21.jpg\n",
      "Captured..../pet/frame22.jpg\n",
      "Captured..../pet/frame23.jpg\n",
      "Captured..../pet/frame24.jpg\n",
      "Captured..../pet/frame25.jpg\n",
      "Captured..../pet/frame26.jpg\n",
      "Captured..../pet/frame27.jpg\n",
      "Captured..../pet/frame28.jpg\n",
      "Captured..../pet/frame29.jpg\n",
      "Captured..../pet/frame30.jpg\n",
      "Captured..../pet/frame31.jpg\n",
      "Captured..../pet/frame32.jpg\n",
      "Captured..../pet/frame33.jpg\n",
      "Captured..../pet/frame34.jpg\n",
      "Captured..../pet/frame35.jpg\n",
      "Captured..../pet/frame36.jpg\n",
      "Captured..../pet/frame37.jpg\n",
      "Captured..../pet/frame38.jpg\n",
      "Captured..../pet/frame39.jpg\n",
      "Captured..../pet/frame40.jpg\n",
      "Captured..../pet/frame41.jpg\n",
      "Captured..../pet/frame42.jpg\n",
      "Captured..../pet/frame43.jpg\n",
      "Captured..../pet/frame44.jpg\n",
      "Captured..../pet/frame45.jpg\n",
      "Captured..../pet/frame46.jpg\n",
      "Captured..../pet/frame47.jpg\n",
      "Captured..../pet/frame48.jpg\n",
      "Captured..../pet/frame49.jpg\n",
      "Captured..../pet/frame50.jpg\n",
      "Captured..../pet/frame51.jpg\n",
      "Captured..../pet/frame52.jpg\n",
      "Captured..../pet/frame53.jpg\n",
      "Captured..../pet/frame54.jpg\n",
      "Captured..../pet/frame55.jpg\n",
      "Captured..../pet/frame56.jpg\n",
      "Captured..../pet/frame57.jpg\n",
      "Captured..../pet/frame58.jpg\n",
      "Captured..../pet/frame59.jpg\n",
      "Captured..../pet/frame60.jpg\n",
      "Captured..../pet/frame61.jpg\n",
      "Captured..../pet/frame62.jpg\n",
      "Captured..../pet/frame63.jpg\n",
      "Captured..../pet/frame64.jpg\n",
      "Captured..../pet/frame65.jpg\n",
      "Captured..../pet/frame66.jpg\n",
      "Captured..../pet/frame67.jpg\n",
      "Captured..../pet/frame68.jpg\n",
      "Captured..../pet/frame69.jpg\n",
      "Captured..../pet/frame70.jpg\n",
      "Captured..../pet/frame71.jpg\n",
      "Captured..../pet/frame72.jpg\n",
      "Captured..../pet/frame73.jpg\n",
      "Captured..../pet/frame74.jpg\n",
      "Captured..../pet/frame75.jpg\n",
      "Captured..../pet/frame76.jpg\n",
      "Captured..../pet/frame77.jpg\n",
      "Captured..../pet/frame78.jpg\n",
      "Captured..../pet/frame79.jpg\n",
      "Captured..../pet/frame80.jpg\n",
      "Captured..../pet/frame81.jpg\n",
      "Captured..../pet/frame82.jpg\n",
      "Captured..../pet/frame83.jpg\n",
      "Captured..../pet/frame84.jpg\n",
      "Captured..../pet/frame85.jpg\n",
      "Captured..../pet/frame86.jpg\n",
      "Captured..../pet/frame87.jpg\n",
      "Captured..../pet/frame88.jpg\n",
      "Captured..../pet/frame89.jpg\n",
      "Captured..../pet/frame90.jpg\n",
      "Captured..../pet/frame91.jpg\n",
      "Captured..../pet/frame92.jpg\n",
      "Captured..../pet/frame93.jpg\n",
      "Captured..../pet/frame94.jpg\n",
      "Captured..../pet/frame95.jpg\n",
      "Captured..../pet/frame96.jpg\n",
      "Captured..../pet/frame97.jpg\n",
      "Captured..../pet/frame98.jpg\n",
      "Captured..../pet/frame99.jpg\n",
      "Captured..../pet/frame100.jpg\n",
      "Captured..../pet/frame101.jpg\n",
      "Captured..../pet/frame102.jpg\n",
      "Captured..../pet/frame103.jpg\n",
      "Captured..../pet/frame104.jpg\n",
      "Captured..../pet/frame105.jpg\n",
      "Captured..../pet/frame106.jpg\n",
      "Captured..../pet/frame107.jpg\n",
      "Captured..../pet/frame108.jpg\n",
      "Captured..../pet/frame109.jpg\n",
      "Captured..../pet/frame110.jpg\n",
      "Captured..../pet/frame111.jpg\n",
      "Captured..../pet/frame112.jpg\n",
      "Captured..../pet/frame113.jpg\n",
      "Captured..../pet/frame114.jpg\n",
      "Captured..../pet/frame115.jpg\n",
      "Captured..../pet/frame116.jpg\n",
      "Captured..../pet/frame117.jpg\n",
      "Captured..../pet/frame118.jpg\n",
      "Captured..../pet/frame119.jpg\n",
      "Captured..../pet/frame120.jpg\n",
      "Captured..../pet/frame121.jpg\n",
      "Captured..../pet/frame122.jpg\n",
      "Captured..../pet/frame123.jpg\n",
      "Captured..../pet/frame124.jpg\n",
      "Captured..../pet/frame125.jpg\n",
      "Captured..../pet/frame126.jpg\n",
      "Captured..../pet/frame127.jpg\n",
      "Captured..../pet/frame128.jpg\n",
      "Captured..../pet/frame129.jpg\n",
      "Captured..../pet/frame130.jpg\n",
      "Captured..../pet/frame131.jpg\n",
      "Captured..../pet/frame132.jpg\n",
      "Captured..../pet/frame133.jpg\n",
      "Captured..../pet/frame134.jpg\n",
      "Captured..../pet/frame135.jpg\n",
      "Captured..../pet/frame136.jpg\n",
      "Captured..../pet/frame137.jpg\n",
      "Captured..../pet/frame138.jpg\n",
      "Captured..../pet/frame139.jpg\n",
      "Captured..../pet/frame140.jpg\n",
      "Captured..../pet/frame141.jpg\n",
      "Captured..../pet/frame142.jpg\n",
      "Captured..../pet/frame143.jpg\n",
      "Captured..../pet/frame144.jpg\n",
      "Captured..../pet/frame145.jpg\n",
      "Captured..../pet/frame146.jpg\n",
      "Captured..../pet/frame147.jpg\n",
      "Captured..../pet/frame148.jpg\n",
      "Captured..../pet/frame149.jpg\n",
      "Captured..../pet/frame150.jpg\n",
      "Captured..../pet/frame151.jpg\n",
      "Captured..../pet/frame152.jpg\n",
      "Captured..../pet/frame153.jpg\n",
      "Captured..../pet/frame154.jpg\n",
      "Captured..../pet/frame155.jpg\n",
      "Captured..../pet/frame156.jpg\n",
      "Captured..../pet/frame157.jpg\n",
      "Captured..../pet/frame158.jpg\n",
      "Captured..../pet/frame159.jpg\n",
      "Captured..../pet/frame160.jpg\n",
      "Captured..../pet/frame161.jpg\n",
      "Captured..../pet/frame162.jpg\n",
      "Captured..../pet/frame163.jpg\n",
      "Captured..../pet/frame164.jpg\n",
      "Captured..../pet/frame165.jpg\n",
      "Captured..../pet/frame166.jpg\n",
      "Captured..../pet/frame167.jpg\n",
      "Captured..../pet/frame168.jpg\n",
      "Captured..../pet/frame169.jpg\n",
      "Captured..../pet/frame170.jpg\n",
      "Captured..../pet/frame171.jpg\n",
      "Captured..../pet/frame172.jpg\n",
      "Captured..../pet/frame173.jpg\n",
      "Captured..../pet/frame174.jpg\n",
      "Captured..../pet/frame175.jpg\n",
      "Captured..../pet/frame176.jpg\n",
      "Captured..../pet/frame177.jpg\n",
      "Captured..../pet/frame178.jpg\n",
      "Captured..../pet/frame179.jpg\n",
      "Captured..../pet/frame180.jpg\n",
      "Captured..../pet/frame181.jpg\n",
      "Captured..../pet/frame182.jpg\n",
      "Captured..../pet/frame183.jpg\n",
      "Captured..../pet/frame184.jpg\n",
      "Captured..../pet/frame185.jpg\n",
      "Captured..../pet/frame186.jpg\n",
      "Captured..../pet/frame187.jpg\n",
      "Captured..../pet/frame188.jpg\n",
      "Captured..../pet/frame189.jpg\n",
      "Captured..../pet/frame190.jpg\n",
      "Captured..../pet/frame191.jpg\n",
      "Captured..../pet/frame192.jpg\n",
      "Captured..../pet/frame193.jpg\n",
      "Captured..../pet/frame194.jpg\n",
      "Captured..../pet/frame195.jpg\n",
      "Captured..../pet/frame196.jpg\n",
      "Captured..../pet/frame197.jpg\n",
      "Captured..../pet/frame198.jpg\n",
      "Captured..../pet/frame199.jpg\n",
      "Captured..../pet/frame200.jpg\n",
      "Captured..../pet/frame201.jpg\n",
      "Captured..../pet/frame202.jpg\n",
      "Captured..../pet/frame203.jpg\n",
      "Captured..../pet/frame204.jpg\n",
      "Captured..../pet/frame205.jpg\n",
      "Captured..../pet/frame206.jpg\n",
      "Captured..../pet/frame207.jpg\n",
      "Captured..../pet/frame208.jpg\n",
      "Captured..../pet/frame209.jpg\n",
      "Captured..../pet/frame210.jpg\n",
      "Captured..../pet/frame211.jpg\n",
      "Captured..../pet/frame212.jpg\n",
      "Captured..../pet/frame213.jpg\n",
      "Captured..../pet/frame214.jpg\n",
      "Captured..../pet/frame215.jpg\n",
      "Captured..../pet/frame216.jpg\n",
      "Captured..../pet/frame217.jpg\n",
      "Captured..../pet/frame218.jpg\n",
      "Captured..../pet/frame219.jpg\n",
      "Captured..../pet/frame220.jpg\n",
      "Captured..../pet/frame221.jpg\n",
      "Captured..../pet/frame222.jpg\n",
      "Captured..../pet/frame223.jpg\n",
      "Captured..../pet/frame224.jpg\n",
      "Captured..../pet/frame225.jpg\n",
      "Captured..../pet/frame226.jpg\n",
      "Captured..../pet/frame227.jpg\n",
      "Captured..../pet/frame228.jpg\n",
      "Captured..../pet/frame229.jpg\n",
      "Captured..../pet/frame230.jpg\n",
      "Captured..../pet/frame231.jpg\n",
      "Captured..../pet/frame232.jpg\n",
      "Captured..../pet/frame233.jpg\n",
      "Captured..../pet/frame234.jpg\n",
      "Captured..../pet/frame235.jpg\n",
      "Captured..../pet/frame236.jpg\n",
      "Captured..../pet/frame237.jpg\n",
      "Captured..../pet/frame238.jpg\n",
      "Captured..../pet/frame239.jpg\n",
      "Captured..../pet/frame240.jpg\n",
      "Captured..../pet/frame241.jpg\n",
      "Captured..../pet/frame242.jpg\n"
     ]
    }
   ],
   "source": [
    "video_read(r'E:\\\\Mobile Backup\\\\Videos\\\\Instagram\\\\VID_46120824_100812_351.mp4')"
   ]
  },
  {
   "cell_type": "markdown",
   "id": "0edae04a",
   "metadata": {},
   "source": [
    "# 12. Write a function which can move a file from one directory to another directory"
   ]
  },
  {
   "cell_type": "code",
   "execution_count": 14,
   "id": "5daaa28a",
   "metadata": {},
   "outputs": [],
   "source": [
    "def move_file(source,destination):\n",
    "    \"\"\"This function is used to move file from source location to destination function(source,destination)\"\"\" \n",
    "    try:\n",
    "        dest = shutil.move(source, destination) \n",
    "       \n",
    "    except:        \n",
    "        print(\"Please enter proper source and destination address\")"
   ]
  },
  {
   "cell_type": "code",
   "execution_count": 15,
   "id": "d879975e",
   "metadata": {},
   "outputs": [
    {
     "name": "stdout",
     "output_type": "stream",
     "text": [
      "Please enter proper source and destination address\n"
     ]
    }
   ],
   "source": [
    "move_file(\"E:/Cheatsheet/Python Cheatsheet.gif\",\"E:/Documents/\")"
   ]
  },
  {
   "cell_type": "markdown",
   "id": "5c73696c",
   "metadata": {},
   "source": [
    "# 13. Write a function which will be able to shut down your system"
   ]
  },
  {
   "cell_type": "code",
   "execution_count": 12,
   "id": "def186ef",
   "metadata": {},
   "outputs": [
    {
     "name": "stdout",
     "output_type": "stream",
     "text": [
      "Are you sure, wanna shutdown?\n",
      " Type 1 and click enter to shutdown: v\n",
      "Shutdown command rejected, ThankYou\n"
     ]
    }
   ],
   "source": [
    "def shutdown():    \n",
    "    if input(\"Are you sure, wanna shutdown?\\n Type 1 and click enter to shutdown: \")==1:\n",
    "        os.system(\"shutdown /p\")\n",
    "    else:\n",
    "        print(\"Shutdown command rejected, ThankYou\")\n",
    "shutdown() "
   ]
  },
  {
   "cell_type": "markdown",
   "id": "64e47bfc",
   "metadata": {},
   "source": [
    "# 14. Write a function which will be able to access your mail"
   ]
  },
  {
   "cell_type": "raw",
   "id": "8b257bdc",
   "metadata": {
    "raw_mimetype": "text/x-python"
   },
   "source": [
    "\n",
    "import smtplib\n",
    "import time\n",
    "import imaplib\n",
    "import email\n",
    "import traceback \n",
    "\n",
    "#     goto https://www.google.com/settings/security/lesssecureapps \n",
    "#     and enable the less secure app access in order to access gmail here:\n",
    "\n",
    "\n",
    "#Just enter the mail id and password in string below\n",
    "\n",
    "FROM_EMAIL = \"mail@gmail.com\" # Enetr your  mail id here\n",
    "FROM_PWD = \"password\" #Enter your Password here\n",
    "\n",
    "\n",
    "SMTP_SERVER = \"imap.gmail.com\" \n",
    "SMTP_PORT = 993\n",
    "\n",
    "def my_inbox():\n",
    "    try:\n",
    "        mail = imaplib.IMAP4_SSL(SMTP_SERVER)\n",
    "        mail.login(FROM_EMAIL,FROM_PWD)\n",
    "        mail.select('inbox')\n",
    "\n",
    "        data = mail.search(None, 'ALL')\n",
    "        mail_ids = data[1]\n",
    "        id_list = mail_ids[0].split()   \n",
    "        first_email_id = int(id_list[0])\n",
    "        latest_email_id = int(id_list[-1])\n",
    "\n",
    "        for i in range(latest_email_id,first_email_id, -1):\n",
    "            data = mail.fetch(str(i), '(RFC822)' )\n",
    "            for response_part in data:\n",
    "                arr = response_part[0]\n",
    "                if isinstance(arr, tuple):\n",
    "                    msg = email.message_from_string(str(arr[1],'utf-8'))\n",
    "                    email_subject = msg['subject']\n",
    "                    email_from = msg['from']\n",
    "                    print('From : ' + email_from + '\\n')\n",
    "                    print('Subject : ' + email_subject + '\\n')\n",
    "                    print(\"=================================\")\n",
    "\n",
    "    except Exception as e:\n",
    "        traceback.print_exc() \n",
    "        print(str(e))\n",
    "\n",
    "my_inbox()"
   ]
  },
  {
   "cell_type": "markdown",
   "id": "0ce3cbc3",
   "metadata": {},
   "source": [
    "# 15. Write a function by which I can send a mail to anyone"
   ]
  },
  {
   "cell_type": "raw",
   "id": "4fe1e17a",
   "metadata": {
    "raw_mimetype": "text/x-python"
   },
   "source": [
    "import smtplib\n",
    "from email.mime.multipart import MIMEMultipart\n",
    "from email.mime.text import MIMEText\n",
    "mail_content = \".........\"\n",
    "\n",
    "#The mail addresses and password\n",
    "sender_address = 'yourmail@gmail.com'\n",
    "sender_pass = 'password'\n",
    "receiver_address = 'clientmail@gmail.com'\n",
    "\n",
    "#Setup the MIME\n",
    "message = MIMEMultipart()\n",
    "message['From'] = sender_address\n",
    "message['To'] = receiver_address\n",
    "message['Subject'] = 'A test mail sent by Python. It has an attachment.'   #The subject line\n",
    "#The body and the attachments for the mail\n",
    "message.attach(MIMEText(mail_content, 'plain'))\n",
    "#Create SMTP session for sending the mail\n",
    "session = smtplib.SMTP('smtp.gmail.com', 587) #use gmail with port\n",
    "session.starttls() #enable security\n",
    "session.login(sender_address, sender_pass) #login with mail_id and password\n",
    "text = message.as_string()\n",
    "session.sendmail(sender_address, receiver_address, text)\n",
    "session.quit()\n",
    "print('Mail Sent')"
   ]
  },
  {
   "cell_type": "markdown",
   "id": "d58d2eac",
   "metadata": {},
   "source": [
    "# 16. Write a function to read a complete PDF file "
   ]
  },
  {
   "cell_type": "code",
   "execution_count": 4,
   "id": "b0d05974",
   "metadata": {},
   "outputs": [
    {
     "name": "stdout",
     "output_type": "stream",
     "text": [
      "DIKSHA LOLEKAR\n",
      "MBA in Business Analytics\n",
      "       Telipura, Kamptee, Maharashtra Pin code - 441002 |         7028183842\n",
      "       dikshalolekar@gmail.com |        linkedin.com/in/dikshalolekar  \n",
      "WORK EXPERIENCE CAREER OBJECTIVE\n",
      "iNeuron Intelligence Pvt Ltd ( Internship ) Seeking to experience a job in Business\n",
      "Data Analyst Analytics and get a rewarding\n",
      "Project - Analyzing Amazon Sales Data  opportunity in an organization of repute\n",
      "Technologies - Business Intelligence  which recognizes & utilizes my true\n",
      "Domain - Ecommerce potential while nurturing my analytical\n",
      "December 2021 to Present skills. \n",
      "Problem Statement:\n",
      "Sales management has gained importance to meet\n",
      "SKILLS \n",
      "increasing competition and the need for improved\n",
      "methods of distribution to reduce cost and to increase\n",
      "CCNA, CCNP\n",
      "profits. Sales management today is the most important\n",
      "Networking & Communication\n",
      "function in a commercial and business enterprise.\n",
      "Install, configure and maintain dependable,\n",
      "functional networks | Successfully operate\n",
      "Public Works Department, Nagpur ( On contract )\n",
      "routers and switched LAN networks |\n",
      "Event Manager \n",
      "Troubleshoot general network and security\n",
      "August 2018 to January 2019\n",
      "issues\n",
      "Handling & supervising a team of 15 workers.\n",
      "Managed 4 committees - Inauguration, Cultural, Post\n",
      "Website Development (Freelancing)\n",
      "Session Tour, Local Tour \n",
      "Link - 601d86c6f038e.site123.me \n",
      "from beginning to end. \n",
      "FB Page Link -\n",
      "facebook.com/ingeniousphotography0007\n",
      "Certificates link  -\n",
      "https://drive.google.com/drive/folders/1nSDx-\n",
      "Zxac0ZxTMlxtm9G_FDYfHTv5EUs?usp=sharing\n",
      "REFERENCE\n",
      "EDUCATIONAL BACKGROUND Suresh Padhya (PWD - Nagpur)\n",
      "9923752166\n",
      "sec.pwdroads@maharashtra.gov.in\n",
      "Datta Meghe Institute of Management Studies\n",
      "MBA in Business Analytics\n",
      "2020 - Present EXPERTISE\n",
      "Digital Committee Head, Student Welfare Committee\n",
      "CGPA - 9.32 ( First Year) MS Word - Extensive\n",
      "MS Powerpoint - Extensive\n",
      "Priyadarshini Indira Gandhi College of Engineering MS Excel - Average \n",
      "B.E in Information Technology WordPress - Extensive\n",
      "Best Thesis: Smart Library Management System Tableau - Good\n",
      "Digital Committee Head, Technoscan Committee Kanban - Good\n",
      "CGPA - 8.18  Python - Good\n"
     ]
    }
   ],
   "source": [
    "import pdfplumber\n",
    "with pdfplumber.open(\"E:/Resumes/Blue and Grey Corporate Actuary Business Commercial Resume.pdf\") as temp:\n",
    "  first_page = temp.pages[0]\n",
    "  print(first_page.extract_text())"
   ]
  },
  {
   "cell_type": "markdown",
   "id": "caf56ac6",
   "metadata": {},
   "source": [
    "# 17. Write a function to read a word file"
   ]
  },
  {
   "cell_type": "code",
   "execution_count": 3,
   "id": "99febacc",
   "metadata": {},
   "outputs": [],
   "source": [
    "from docx import Document\n",
    "from docx.shared import Inches\n",
    "\n",
    "document = Document()\n",
    "\n",
    "document.add_heading('Document Title', 0)\n",
    "\n",
    "p = document.add_paragraph('A plain paragraph having some ')\n",
    "p.add_run('bold').bold = True\n",
    "p.add_run(' and some ')\n",
    "p.add_run('italic.').italic = True\n",
    "\n",
    "document.add_heading('Heading, level 1', level=1)\n",
    "document.add_paragraph('Intense quote', style='Intense Quote')\n",
    "\n",
    "document.add_paragraph(\n",
    "    'first item in unordered list', style='List Bullet'\n",
    ")\n",
    "document.add_paragraph(\n",
    "    'first item in ordered list', style='List Number'\n",
    ")\n",
    "\n",
    "document.add_picture('D:\\Akshay Files\\Akshay Documents\\918956046056.jpg', width=Inches(1.25))\n",
    "\n",
    "records = (\n",
    "    (3, '101', 'Spam'),\n",
    "    (7, '422', 'Eggs'),\n",
    "    (4, '631', 'Spam, spam, eggs, and spam')\n",
    ")\n",
    "\n",
    "table = document.add_table(rows=1, cols=3)\n",
    "hdr_cells = table.rows[0].cells\n",
    "hdr_cells[0].text = 'Qty'\n",
    "hdr_cells[1].text = 'Id'\n",
    "hdr_cells[2].text = 'Desc'\n",
    "for qty, id, desc in records:\n",
    "    row_cells = table.add_row().cells\n",
    "    row_cells[0].text = str(qty)\n",
    "    row_cells[1].text = id\n",
    "    row_cells[2].text = desc\n",
    "\n",
    "document.add_page_break()\n",
    "\n",
    "document.save('demo.docx')"
   ]
  },
  {
   "cell_type": "code",
   "execution_count": 7,
   "id": "9c6a6288",
   "metadata": {},
   "outputs": [],
   "source": [
    "from docx import Document\n",
    "from docx.shared import Inches\n",
    "\n",
    "def read_file():\n",
    "    document = Document(\"E:/Resumes/Akshay Bondade.docx\")"
   ]
  },
  {
   "cell_type": "code",
   "execution_count": 8,
   "id": "48b68c19",
   "metadata": {},
   "outputs": [],
   "source": [
    "read_file()"
   ]
  },
  {
   "cell_type": "markdown",
   "id": "f5842f21",
   "metadata": {},
   "source": [
    "# 18. write a function which can help you to filter only word file from a directory"
   ]
  },
  {
   "cell_type": "code",
   "execution_count": 21,
   "id": "4194782f",
   "metadata": {},
   "outputs": [],
   "source": [
    "import os\n",
    "def filter_file(path =os.getcwd()):\n",
    "    files = os.listdir(path)\n",
    "    l = [file for file in files if str(file).endswith('.pdf')] #change the \n",
    "    return l"
   ]
  },
  {
   "cell_type": "code",
   "execution_count": 25,
   "id": "3c414b89",
   "metadata": {},
   "outputs": [
    {
     "data": {
      "text/plain": [
       "['Anchit Resume.pdf',\n",
       " 'Blue and Grey Corporate Actuary Business Commercial Resume.pdf',\n",
       " 'Experienced Resume1.pdf',\n",
       " 'Grey and White Minimalist Resume.pdf',\n",
       " 'Resume A.pdf',\n",
       " 'Resume.pdf']"
      ]
     },
     "execution_count": 25,
     "metadata": {},
     "output_type": "execute_result"
    }
   ],
   "source": [
    "filter_file(\"E://Resumes\")"
   ]
  },
  {
   "cell_type": "markdown",
   "id": "23be40f0",
   "metadata": {},
   "source": [
    "# 19. write a function by which you can print an ip address of your system"
   ]
  },
  {
   "cell_type": "code",
   "execution_count": 26,
   "id": "35bea92a",
   "metadata": {},
   "outputs": [],
   "source": [
    "import socket\n",
    "def ip():\n",
    "    print(\"Your Computer IP Address is: \" + socket.gethostbyname(socket.gethostname()))"
   ]
  },
  {
   "cell_type": "code",
   "execution_count": 27,
   "id": "2cfde858",
   "metadata": {},
   "outputs": [
    {
     "name": "stdout",
     "output_type": "stream",
     "text": [
      "Your Computer IP Address is: 192.168.194.148\n"
     ]
    }
   ],
   "source": [
    "ip()"
   ]
  },
  {
   "cell_type": "markdown",
   "id": "bc0b0175",
   "metadata": {},
   "source": [
    "# 20. write a function by whihc you will be able to append two PDF files"
   ]
  },
  {
   "cell_type": "code",
   "execution_count": 9,
   "id": "254bdd77",
   "metadata": {},
   "outputs": [],
   "source": [
    "import subprocess \n",
    "from PyPDF2 import PdfFileMerger\n",
    "\n",
    "\n",
    "\n",
    "def merge_pdf(pdfs): # Specify the path for file1 and file2\n",
    "\n",
    "    \"\"\"This function is used to merge two or more pdf files \"\"\"\n",
    "    merger = PdfFileMerger()\n",
    "    for pdf in pdfs:\n",
    "        merger.append(pdf)\n",
    "\n",
    "    merger.write(\"merged.pdf\")\n",
    "    merger.close()"
   ]
  },
  {
   "cell_type": "code",
   "execution_count": 29,
   "id": "6d02746c",
   "metadata": {},
   "outputs": [],
   "source": [
    "# provide multiple file paths in the form of list and leave the rest to code\n",
    "merge_pdf([\"E:/Resumes/Resume A.pdf\", \"E:/Resumes/Resume.pdf\"])"
   ]
  },
  {
   "cell_type": "code",
   "execution_count": null,
   "id": "55098441",
   "metadata": {},
   "outputs": [],
   "source": []
  }
 ],
 "metadata": {
  "celltoolbar": "Raw Cell Format",
  "kernelspec": {
   "display_name": "Python 3 (ipykernel)",
   "language": "python",
   "name": "python3"
  },
  "language_info": {
   "codemirror_mode": {
    "name": "ipython",
    "version": 3
   },
   "file_extension": ".py",
   "mimetype": "text/x-python",
   "name": "python",
   "nbconvert_exporter": "python",
   "pygments_lexer": "ipython3",
   "version": "3.9.7"
  }
 },
 "nbformat": 4,
 "nbformat_minor": 5
}
